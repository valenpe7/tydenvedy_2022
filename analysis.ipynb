{
 "cells": [
  {
   "cell_type": "markdown",
   "id": "e6aea122",
   "metadata": {},
   "source": [
    "### Load modules:"
   ]
  },
  {
   "cell_type": "code",
   "execution_count": null,
   "id": "a39c967c",
   "metadata": {},
   "outputs": [],
   "source": [
    "import vtk\n",
    "from vtk.util.numpy_support import vtk_to_numpy\n",
    "import numpy as np\n",
    "import matplotlib as mpl\n",
    "mpl.rcParams['axes.linewidth'] = 1.5\n",
    "mpl.rcParams[\"mathtext.fontset\"] = 'stix'\n",
    "mpl.rcParams['font.family'] = 'STIXGeneral'\n",
    "import matplotlib.pyplot as plt\n",
    "from scipy.constants import elementary_charge as e, epsilon_0 as eps_0, m_e, c, m_p\n",
    "from scipy.signal import savgol_filter\n",
    "import copy"
   ]
  },
  {
   "cell_type": "markdown",
   "id": "a7c14a53",
   "metadata": {},
   "source": [
    "### Define auxiliary objects and parameters:"
   ]
  },
  {
   "cell_type": "code",
   "execution_count": null,
   "id": "a67b625b",
   "metadata": {},
   "outputs": [],
   "source": [
    "# define transparent colormap\n",
    "Reds_t = copy.deepcopy(mpl.cm.get_cmap(\"Reds\"))\n",
    "q = np.linspace(0, Reds_t.N + 3, Reds_t.N + 3)\n",
    "Reds_t._init()\n",
    "Reds_t._lut[:,-1] = q / 259"
   ]
  },
  {
   "cell_type": "code",
   "execution_count": null,
   "id": "612f5fc4",
   "metadata": {},
   "outputs": [],
   "source": [
    "# define coordinates\n",
    "x = np.linspace(-10.0, 15.0, 1000)\n",
    "y = np.linspace(-5.0, 5.0, 400)\n",
    "z = np.linspace(-5.0, 5.0, 400)"
   ]
  },
  {
   "cell_type": "code",
   "execution_count": null,
   "id": "e5a3a703",
   "metadata": {},
   "outputs": [],
   "source": [
    "# define data readers\n",
    "vti_reader = vtk.vtkXMLImageDataReader()\n",
    "vtu_reader = vtk.vtkXMLUnstructuredGridReader()"
   ]
  },
  {
   "cell_type": "markdown",
   "id": "387ce4aa",
   "metadata": {},
   "source": [
    "### Plot x-y slice:"
   ]
  },
  {
   "cell_type": "code",
   "execution_count": null,
   "id": "cb26edde",
   "metadata": {},
   "outputs": [],
   "source": [
    "# define time step\n",
    "t = 74\n",
    "\n",
    "# load data\n",
    "vti_reader.SetFileName(\"vtk/ne/slice_xy/ne_xy_{:04d}.vti\".format(t))\n",
    "vti_reader.Update()\n",
    "ne = np.sum(np.reshape(vtk_to_numpy(vti_reader.GetOutput().GetCellData().GetArray(0)), [2, 400, 1000]), axis=0) / 2.0\n",
    "vti_reader.SetFileName(\"vtk/ey/slice_xy/ey_xy_{:04d}.vti\".format(t))\n",
    "vti_reader.Update()\n",
    "ey = np.sum(np.reshape(vtk_to_numpy(vti_reader.GetOutput().GetCellData().GetArray(0)), [2, 400, 1000]), axis=0) / 2.0\n",
    "time = np.round(vtk_to_numpy(vti_reader.GetOutput().GetFieldData().GetArray(0))[0], 1)"
   ]
  },
  {
   "cell_type": "code",
   "execution_count": null,
   "id": "54e1f209",
   "metadata": {},
   "outputs": [],
   "source": [
    "# create figure\n",
    "fig, ax = plt.subplots(figsize=(8, 4))\n",
    "\n",
    "# plot data and adjust figure parameters\n",
    "im_1 = ax.pcolormesh(x, y, ne, shading=\"auto\", cmap=\"bone_r\", vmin=0, vmax=30, zorder=1)\n",
    "im_2 = ax.pcolormesh(x, y, ey**2, shading=\"auto\", cmap=Reds_t, vmin=0, vmax=1, zorder=3)\n",
    "ax.set_xlim(-10, 15)\n",
    "ax.set_ylim(-5, 5)\n",
    "ax.set_xlabel(r\"$ x \\ (\\mathrm{\\mu m}) $\", fontsize=20, labelpad=10)\n",
    "ax.set_ylabel(r\"$ y \\ (\\mathrm{\\mu m}) $\", fontsize=20, labelpad=10)\n",
    "ax.tick_params(axis=\"both\", which=\"major\", labelsize=16)\n",
    "ax.axhline(0.0, linestyle=\"--\", color=\"black\", alpha=0.4, zorder=2)\n",
    "ax.grid(linestyle=\"--\", alpha=0.2)\n",
    "ax.text(-9, 4, r\"$ t = {} \\ T_0 $\".format(time), fontsize=20)\n",
    "\n",
    "# add electron density colorbar\n",
    "cbar_1 = plt.colorbar(im_1, ax=ax, aspect=25, pad=0.06)\n",
    "cbar_1.set_label(label=r\"$ n_e \\ / \\ n_c $\", fontsize=20, labelpad=10)\n",
    "cbar_1.ax.tick_params(labelsize=16)\n",
    "\n",
    "# add electric field colorbar\n",
    "cbar_2 = plt.colorbar(im_2, ax=ax, aspect=25, pad=0.03)\n",
    "cbar_2.set_label(label=r\"$ \\left(E_y \\ / \\ E_0 \\right)^2 $\", fontsize=20, labelpad=10)\n",
    "cbar_2.ax.tick_params(labelsize=16)"
   ]
  },
  {
   "cell_type": "code",
   "execution_count": null,
   "id": "c17bbf61",
   "metadata": {},
   "outputs": [],
   "source": [
    "# save figure to file\n",
    "fig.savefig(\"./slice_xy_{:04d}.jpg\".format(t), dpi=150, bbox_inches=\"tight\")"
   ]
  },
  {
   "cell_type": "markdown",
   "id": "348ee889",
   "metadata": {},
   "source": [
    "### Plot x-z slice:"
   ]
  },
  {
   "cell_type": "code",
   "execution_count": null,
   "id": "b514ed00",
   "metadata": {},
   "outputs": [],
   "source": [
    "# define time step\n",
    "t = 74\n",
    "\n",
    "# load data\n",
    "vti_reader.SetFileName(\"vtk/ne/slice_xz/ne_xz_{:04d}.vti\".format(t))\n",
    "vti_reader.Update()\n",
    "ne = np.sum(np.reshape(vtk_to_numpy(vti_reader.GetOutput().GetCellData().GetArray(0)), [400, 2, 1000]), axis=1) / 2.0\n",
    "vti_reader.SetFileName(\"vtk/ey/slice_xz/ey_xz_{:04d}.vti\".format(t))\n",
    "vti_reader.Update()\n",
    "ey = np.sum(np.reshape(vtk_to_numpy(vti_reader.GetOutput().GetCellData().GetArray(0)), [400, 2, 1000]), axis=1) / 2.0\n",
    "time = np.round(vtk_to_numpy(vti_reader.GetOutput().GetFieldData().GetArray(0))[0], 1)"
   ]
  },
  {
   "cell_type": "code",
   "execution_count": null,
   "id": "a0c36b16",
   "metadata": {},
   "outputs": [],
   "source": [
    "# create figure\n",
    "fig, ax = plt.subplots(figsize=(8, 4))\n",
    "\n",
    "# plot data and adjust figure parameters\n",
    "im_1 = ax.pcolormesh(x, z, ne, shading=\"auto\", cmap=\"bone_r\", vmin=0, vmax=30, zorder=1)\n",
    "im_2 = ax.pcolormesh(x, z, ey**2, shading=\"auto\", cmap=Reds_t, vmin=0, vmax=1, zorder=3)\n",
    "ax.set_xlim(-10, 15)\n",
    "ax.set_ylim(-5, 5)\n",
    "ax.set_xlabel(r\"$ x \\ (\\mathrm{\\mu m}) $\", fontsize=20, labelpad=10)\n",
    "ax.set_ylabel(r\"$ z \\ (\\mathrm{\\mu m}) $\", fontsize=20, labelpad=10)\n",
    "ax.tick_params(axis=\"both\", which=\"major\", labelsize=16)\n",
    "ax.axhline(0.0, linestyle=\"--\", color=\"black\", alpha=0.4, zorder=2)\n",
    "ax.grid(linestyle=\"--\", alpha=0.2)\n",
    "ax.text(-9, 4, r\"$ t = {} \\ T_0 $\".format(time), fontsize=20)\n",
    "\n",
    "# add electron density colorbar\n",
    "cbar_1 = plt.colorbar(im_1, ax=ax, aspect=25, pad=0.06)\n",
    "cbar_1.set_label(label=r\"$ n_e \\ / \\ n_c $\", fontsize=20, labelpad=10)\n",
    "cbar_1.ax.tick_params(labelsize=16)\n",
    "\n",
    "# add electric field colorbar\n",
    "cbar_2 = plt.colorbar(im_2, ax=ax, aspect=25, pad=0.03)\n",
    "cbar_2.set_label(label=r\"$ \\left(E_y \\ / \\ E_0 \\right)^2 $\", fontsize=20, labelpad=10)\n",
    "cbar_2.ax.tick_params(labelsize=16)"
   ]
  },
  {
   "cell_type": "code",
   "execution_count": null,
   "id": "df4e6b58",
   "metadata": {},
   "outputs": [],
   "source": [
    "# save figure to file\n",
    "fig.savefig(\"./slice_xz_{:04d}.jpg\".format(t), dpi=150, bbox_inches=\"tight\")"
   ]
  },
  {
   "cell_type": "markdown",
   "id": "c80407e1",
   "metadata": {},
   "source": [
    "### Plot proton energy spectrum:"
   ]
  },
  {
   "cell_type": "code",
   "execution_count": null,
   "id": "929d4501",
   "metadata": {},
   "outputs": [],
   "source": [
    "# define time step\n",
    "t = 99\n",
    "\n",
    "# read data\n",
    "vtu_reader.SetFileName(\"vtk/pp/pp_{:04d}.vtu\".format(t))\n",
    "vtu_reader.Update()\n",
    "px = vtk_to_numpy(vtu_reader.GetOutput().GetPointData().GetArray(0))\n",
    "py = vtk_to_numpy(vtu_reader.GetOutput().GetPointData().GetArray(1))\n",
    "pz = vtk_to_numpy(vtu_reader.GetOutput().GetPointData().GetArray(2))\n",
    "w = 163308.72\n",
    "\n",
    "# calculate energy\n",
    "ek = m_p * c**2 * (np.sqrt(1.0 + px**2 + py**2 + pz**2) - 1.0) / e / 1.0e6\n",
    "\n",
    "# calculate histogram\n",
    "ene, d_e = np.linspace(0.0, 300.0, 300, retstep=True)\n",
    "h = np.histogram(ek, weights=(w * np.ones(np.size(ek)) * 1000), bins=ene)"
   ]
  },
  {
   "cell_type": "code",
   "execution_count": null,
   "id": "3fefd40e",
   "metadata": {},
   "outputs": [],
   "source": [
    "# create figure\n",
    "fig, ax = plt.subplots()\n",
    "\n",
    "# plot data\n",
    "ax.plot(h[1][0:-1], h[0] / d_e, color=\"blue\")\n",
    "ax.set_yscale(\"log\")\n",
    "ax.set_xlim(0, 250)\n",
    "ax.set_ylim(1e7, 1e12)\n",
    "ax.set_xlabel(r\"$ \\mathcal{E}_p \\ (\\mathrm{MeV}) $\", fontsize=20, labelpad=10)\n",
    "ax.set_ylabel(r\"$ N_p $\", fontsize=20, labelpad=10)\n",
    "ax.tick_params(axis=\"both\", which=\"major\", labelsize=16)\n",
    "ax.grid(linestyle=\"--\", alpha=0.2)"
   ]
  },
  {
   "cell_type": "code",
   "execution_count": null,
   "id": "e6add112",
   "metadata": {},
   "outputs": [],
   "source": [
    "# save figure to file\n",
    "fig.savefig(\"./proton_spectrum_{:04d}.jpg\".format(t), dpi=150, bbox_inches=\"tight\")"
   ]
  }
 ],
 "metadata": {
  "kernelspec": {
   "display_name": "Python 3 (ipykernel)",
   "language": "python",
   "name": "python3"
  },
  "language_info": {
   "codemirror_mode": {
    "name": "ipython",
    "version": 3
   },
   "file_extension": ".py",
   "mimetype": "text/x-python",
   "name": "python",
   "nbconvert_exporter": "python",
   "pygments_lexer": "ipython3",
   "version": "3.9.7"
  }
 },
 "nbformat": 4,
 "nbformat_minor": 5
}
